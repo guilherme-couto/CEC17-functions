{
 "cells": [
  {
   "cell_type": "code",
   "execution_count": 8,
   "metadata": {
    "collapsed": true,
    "ExecuteTime": {
     "end_time": "2023-05-01T12:44:32.239639991Z",
     "start_time": "2023-05-01T12:43:40.580850633Z"
    }
   },
   "outputs": [
    {
     "name": "stdout",
     "output_type": "stream",
     "text": [
      "Problem: 3. D:2 10 \n",
      "Problem: 4. D:2 10 \n",
      "\n",
      "3\t2\t400.0\n",
      "3\t2\t400.0\n",
      "3\t2\t400.0\n",
      "3\t2\t400.0\n",
      "3\t2\t400.0\n",
      "3\t10\t400.0\n",
      "3\t10\t400.0\n",
      "3\t10\t400.0\n",
      "3\t10\t400.0\n",
      "3\t10\t400.0\n",
      "4\t2\t500.0\n",
      "4\t2\t500.9949590570933\n",
      "4\t2\t500.0\n",
      "4\t2\t500.0\n",
      "4\t2\t500.0\n",
      "4\t10\t508.7190998696519\n",
      "4\t10\t508.87889703710294\n",
      "4\t10\t506.9647133996531\n",
      "4\t10\t507.3204024405762\n",
      "4\t10\t509.2375966636922\n",
      "\n"
     ]
    }
   ],
   "source": [
    "import cec2017.functions as functions\n",
    "from pygmo import *\n",
    "import numpy as np\n",
    "import time\n",
    "from cec_prob import CECProb\n",
    "\n",
    "\n",
    "problems = [CECProb(10, 9)]\n",
    "results_str = \"\"\n",
    "\n",
    "#itera os índices dos problemas\n",
    "for p in range(3, 5):\n",
    "    start = time.time()\n",
    "    print(f\"Problem: {p}. D:\", end=\"\")\n",
    "\n",
    "    #itera as dimensões possíveis: 2 e 10\n",
    "    for d in [2, 10]:\n",
    "        print(f\" {d} [\", end=\"\")\n",
    "\n",
    "        #número de repetições de cada experimento: 51\n",
    "        for i in range(5):\n",
    "            algo = algorithm(de(gen=500*d, F=0.8, CR=0.9, variant=2, ftol=1e-20, xtol=1e-20))\n",
    "            algo.set_verbosity(0)\n",
    "            prob = problem(CECProb(d, p))\n",
    "            pop = population(prob, 20)\n",
    "            pop = algo.evolve(pop)\n",
    "            uda = algo.extract(de)\n",
    "            results_str = results_str +\"\\n\"+ f\"{p}\\t{d}\\t{pop.champion_f[0]}\"\n",
    "            print(f\"|\", end=\"\")\n",
    "\n",
    "        print(\"]\", end=\"\")\n",
    "\n",
    "    print(\"\\n\", end=\"\")\n",
    "    end = time.time()\n",
    "    print(f\"Time elapsed: {end - start}\")\n",
    "        #print([x[2] for x in uda.get_log()])\n",
    "\n",
    "\n",
    "\n",
    "results_str = results_str + \"\\n\"\n",
    "print(results_str)\n"
   ]
  }
 ],
 "metadata": {
  "kernelspec": {
   "display_name": "Python 3",
   "language": "python",
   "name": "python3"
  },
  "language_info": {
   "codemirror_mode": {
    "name": "ipython",
    "version": 2
   },
   "file_extension": ".py",
   "mimetype": "text/x-python",
   "name": "python",
   "nbconvert_exporter": "python",
   "pygments_lexer": "ipython2",
   "version": "2.7.6"
  }
 },
 "nbformat": 4,
 "nbformat_minor": 0
}

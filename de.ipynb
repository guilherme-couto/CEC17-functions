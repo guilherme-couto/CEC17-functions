{
 "cells": [
  {
   "cell_type": "code",
   "execution_count": 2,
   "metadata": {
    "collapsed": true,
    "ExecuteTime": {
     "end_time": "2023-04-29T20:22:32.258428352Z",
     "start_time": "2023-04-29T20:22:29.260361962Z"
    }
   },
   "outputs": [
    {
     "name": "stdout",
     "output_type": "stream",
     "text": [
      "[542015.1473265272, 6969.854493382237, 3631.0971818520175, 605.4216989373436, 357.04957573933785, 306.10561813490085, 300.5144219898742, 300.0285882546854, 300.002072492761, 300.0001277370519, 300.0000089439558, 300.00000159293387, 300.00000007452434, 300.0000000097983, 300.00000000128534, 300.0000000001563, 300.0000000000085, 300.0000000000004, 300.0, 300.0]\n",
      "[60951.02518517492, 9063.859188107223, 4721.458747886617, 1191.7825552210259, 416.2654565359818, 308.7286749589123, 300.76487068668933, 300.09753653063325, 300.007142565915, 300.0012201835234, 300.00013918651575, 300.0000117138482, 300.00000067606857, 300.00000002501775, 300.0000000031629, 300.00000000022567, 300.000000000023, 300.0000000000009, 300.00000000000006]\n"
     ]
    }
   ],
   "source": [
    "import cec2017.functions as functions\n",
    "from pygmo import *\n",
    "import numpy as np\n",
    "\n",
    "class CECProb:\n",
    "    def __init__(self, dim, func_id):\n",
    "        self.dim = dim\n",
    "        self.ub = 100\n",
    "        self.lb = -100\n",
    "        self.func_id = func_id\n",
    "\n",
    "    def fitness(self, x):\n",
    "        func = functions.all_functions[self.func_id]\n",
    "        return func(x)\n",
    "\n",
    "    def get_bounds(self):\n",
    "        return ([self.lb]*self.dim, [self.ub]*self.dim)\n",
    "\n",
    "\n",
    "problems = [CECProb(10, 2)]\n",
    "for p in problems:\n",
    "    for i in range(2):\n",
    "        algo = algorithm(de(gen=5000, F=0.8, CR=0.9, variant=2, ftol=1e-20, xtol=1e-20))\n",
    "        algo.set_verbosity(100)\n",
    "        prob = problem(p)\n",
    "        pop = population(prob, 20)\n",
    "        pop = algo.evolve(pop)\n",
    "        uda = algo.extract(de)\n",
    "\n",
    "        print([x[2] for x in uda.get_log()])\n",
    "\n"
   ]
  }
 ],
 "metadata": {
  "kernelspec": {
   "display_name": "Python 3",
   "language": "python",
   "name": "python3"
  },
  "language_info": {
   "codemirror_mode": {
    "name": "ipython",
    "version": 2
   },
   "file_extension": ".py",
   "mimetype": "text/x-python",
   "name": "python",
   "nbconvert_exporter": "python",
   "pygments_lexer": "ipython2",
   "version": "2.7.6"
  }
 },
 "nbformat": 4,
 "nbformat_minor": 0
}
